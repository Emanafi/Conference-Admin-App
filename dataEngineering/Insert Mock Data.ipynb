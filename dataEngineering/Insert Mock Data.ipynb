{
 "cells": [
  {
   "cell_type": "code",
   "execution_count": null,
   "id": "5420d1b0",
   "metadata": {},
   "outputs": [],
   "source": [
    "import pandas as pd\n",
    "import pymongo\n",
    "from pymongo import MongoClient\n",
    "import json\n",
    "# https://faker.readthedocs.io/en/master/\n",
    "from faker import Faker\n",
    "import bson\n",
    "from bson import ObjectId"
   ]
  },
  {
   "cell_type": "code",
   "execution_count": null,
   "id": "b868df9e",
   "metadata": {},
   "outputs": [],
   "source": [
    "with open('credentials.json') as creds:\n",
    "    credentials = json.load(creds)\n",
    "    \n",
    "fake = Faker()"
   ]
  },
  {
   "cell_type": "code",
   "execution_count": null,
   "id": "2c396487",
   "metadata": {},
   "outputs": [],
   "source": [
    "mongo_client = MongoClient(credentials['schemeAndSubdomain'] + credentials['userName'] + ':' + credentials['passWord'] + credentials['hostAndParams'])"
   ]
  },
  {
   "cell_type": "code",
   "execution_count": null,
   "id": "cf9feed5",
   "metadata": {},
   "outputs": [],
   "source": [
    "try:\n",
    "    mongo_client.server_info()\n",
    "    print('Connected to MongoDB')\n",
    "    global database\n",
    "    database = mongo_client['adminApp']\n",
    "except:\n",
    "    print('error connecting to MongoDB')"
   ]
  },
  {
   "cell_type": "code",
   "execution_count": null,
   "id": "b1056848",
   "metadata": {},
   "outputs": [],
   "source": [
    "attendees = []\n",
    "speeches = []\n",
    "conference = []"
   ]
  },
  {
   "cell_type": "code",
   "execution_count": null,
   "id": "412d90b5",
   "metadata": {},
   "outputs": [],
   "source": [
    "for i in range(1000):\n",
    "    attendees.append({\n",
    "        '_id': ObjectId(),\n",
    "        'firstName': fake.first_name(),\n",
    "        'lastName': fake.last_name(),\n",
    "        'phoneNumber': fake.phone_number(),\n",
    "        'country': fake.country(),\n",
    "        'email': fake.email(),\n",
    "    })"
   ]
  },
  {
   "cell_type": "code",
   "execution_count": null,
   "id": "55b0cd51",
   "metadata": {},
   "outputs": [],
   "source": [
    "attendees_cursor = database.attendees.find({}).limit(300)"
   ]
  },
  {
   "cell_type": "code",
   "execution_count": null,
   "id": "55ef6143",
   "metadata": {},
   "outputs": [],
   "source": [
    "attendees_dataframe = pd.DataFrame(list(attendees_cursor))"
   ]
  },
  {
   "cell_type": "code",
   "execution_count": null,
   "id": "5e0ba530",
   "metadata": {},
   "outputs": [],
   "source": [
    "for index, row in attendees_dataframe.iterrows():\n",
    "    speeches.append({\n",
    "        '_id': ObjectId(),\n",
    "        'attendeeId': str(row['_id']),\n",
    "        'timeSlot': fake.date_time(),\n",
    "        'conferenceId': '63dc6b4e0a3d06ca3c070c12',\n",
    "        'topic': fake.text(max_nb_chars=15)\n",
    "    })"
   ]
  },
  {
   "cell_type": "code",
   "execution_count": null,
   "id": "380d807d",
   "metadata": {},
   "outputs": [],
   "source": [
    "speeches"
   ]
  },
  {
   "cell_type": "code",
   "execution_count": null,
   "id": "07eeb2ca",
   "metadata": {},
   "outputs": [],
   "source": [
    "attendees_inserted_cursor = database.attendees.insert_many(attendees)\n",
    "print('Inserted documents: ', attendees_inserted_cursor.inserted_ids)"
   ]
  },
  {
   "cell_type": "code",
   "execution_count": null,
   "id": "de313a81",
   "metadata": {},
   "outputs": [],
   "source": [
    "speeches_inserted_cursor = database.speeches.insert_many(speeches)\n",
    "print('Inserted documents: ', speeches_inserted_cursor.inserted_ids)"
   ]
  },
  {
   "cell_type": "code",
   "execution_count": null,
   "id": "e0779619",
   "metadata": {},
   "outputs": [],
   "source": []
  }
 ],
 "metadata": {
  "kernelspec": {
   "display_name": "Python 3 (ipykernel)",
   "language": "python",
   "name": "python3"
  },
  "language_info": {
   "codemirror_mode": {
    "name": "ipython",
    "version": 3
   },
   "file_extension": ".py",
   "mimetype": "text/x-python",
   "name": "python",
   "nbconvert_exporter": "python",
   "pygments_lexer": "ipython3",
   "version": "3.9.13"
  }
 },
 "nbformat": 4,
 "nbformat_minor": 5
}
